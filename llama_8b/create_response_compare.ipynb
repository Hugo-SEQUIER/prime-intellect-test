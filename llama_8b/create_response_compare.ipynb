{
 "cells": [
  {
   "cell_type": "code",
   "execution_count": 2,
   "metadata": {},
   "outputs": [],
   "source": [
    "import pandas as pd\n",
    "import json"
   ]
  },
  {
   "cell_type": "code",
   "execution_count": 3,
   "metadata": {},
   "outputs": [],
   "source": [
    "# Load your JSON content into a dictionary\n",
    "with open('response_dict.json', 'r', encoding='utf-8') as file:\n",
    "    json_data = json.load(file)"
   ]
  },
  {
   "cell_type": "code",
   "execution_count": 4,
   "metadata": {},
   "outputs": [
    {
     "name": "stderr",
     "output_type": "stream",
     "text": [
      "C:\\Users\\sequi\\AppData\\Local\\Packages\\PythonSoftwareFoundation.Python.3.9_qbz5n2kfra8p0\\LocalCache\\local-packages\\Python39\\site-packages\\tqdm\\auto.py:21: TqdmWarning: IProgress not found. Please update jupyter and ipywidgets. See https://ipywidgets.readthedocs.io/en/stable/user_install.html\n",
      "  from .autonotebook import tqdm as notebook_tqdm\n"
     ]
    }
   ],
   "source": [
    "splits = {'validation': 'all/validation-00000-of-00001.parquet'}\n",
    "dataset_df = pd.read_parquet(\"hf://datasets/cais/mmlu/\" + splits[\"validation\"])"
   ]
  },
  {
   "cell_type": "code",
   "execution_count": 5,
   "metadata": {},
   "outputs": [],
   "source": [
    "# Extract the relevant data from JSON\n",
    "instructions = []\n",
    "choices = []\n",
    "responses_json = []\n",
    "\n",
    "for key in json_data:\n",
    "    for entry in json_data[key]:\n",
    "        # Extraire les instructions, choix et réponses\n",
    "        instruction_start = entry.find('### Instruction:') + len('### Instruction:')\n",
    "        instruction_end = entry.find('### Choices:')\n",
    "        instruction = entry[instruction_start:instruction_end].strip()\n",
    "        \n",
    "        choices_start = entry.find('### Choices:') + len('### Choices:')\n",
    "        choices_end = entry.find('### Response:')\n",
    "        choice = entry[choices_start:choices_end].strip()\n",
    "        \n",
    "        response_start = entry.find('### Response:') + len('### Response:')\n",
    "        response = entry[response_start:].strip()\n",
    "\n",
    "        instructions.append(instruction)\n",
    "        choices.append(choice)\n",
    "        responses_json.append(response)"
   ]
  },
  {
   "cell_type": "code",
   "execution_count": 6,
   "metadata": {},
   "outputs": [],
   "source": [
    "# Combine the data\n",
    "data = {\n",
    "    'Instruction': instructions,\n",
    "    'Choix': choices,\n",
    "    'Réponse Dataset': dataset_df['answer'],  # This assumes the order matches\n",
    "    'Réponse Json': responses_json\n",
    "}"
   ]
  },
  {
   "cell_type": "code",
   "execution_count": 8,
   "metadata": {},
   "outputs": [
    {
     "name": "stderr",
     "output_type": "stream",
     "text": [
      "C:\\Users\\sequi\\AppData\\Local\\Temp\\ipykernel_29164\\2742041011.py:8: FutureWarning: DataFrame.applymap has been deprecated. Use DataFrame.map instead.\n",
      "  df = df.applymap(lambda x: remove_non_printable(str(x)))\n"
     ]
    }
   ],
   "source": [
    "import re\n",
    "# Create the DataFrame\n",
    "df = pd.DataFrame(data)\n",
    "def remove_non_printable(text):\n",
    "    return re.sub(r'[^\\x20-\\x7E]', '', text)\n",
    "\n",
    "# Apply the function to the entire DataFrame\n",
    "df = df.applymap(lambda x: remove_non_printable(str(x)))\n",
    "# Save to Excel\n",
    "df.to_excel('result_inference_mmlu.xlsx', index=False)"
   ]
  },
  {
   "cell_type": "code",
   "execution_count": null,
   "metadata": {},
   "outputs": [],
   "source": []
  }
 ],
 "metadata": {
  "kernelspec": {
   "display_name": "Python 3",
   "language": "python",
   "name": "python3"
  },
  "language_info": {
   "codemirror_mode": {
    "name": "ipython",
    "version": 3
   },
   "file_extension": ".py",
   "mimetype": "text/x-python",
   "name": "python",
   "nbconvert_exporter": "python",
   "pygments_lexer": "ipython3",
   "version": "3.9.13"
  }
 },
 "nbformat": 4,
 "nbformat_minor": 2
}
