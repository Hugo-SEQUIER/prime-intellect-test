{
 "cells": [
  {
   "cell_type": "code",
   "execution_count": 60,
   "metadata": {},
   "outputs": [],
   "source": [
    "import pandas as pd\n",
    "import json\n",
    "import ast\n",
    "import re"
   ]
  },
  {
   "cell_type": "code",
   "execution_count": 61,
   "metadata": {},
   "outputs": [],
   "source": [
    "# Load your JSON content into a dictionary\n",
    "with open('response_dict.json', 'r', encoding='utf-8') as file:\n",
    "    json_data = json.load(file)"
   ]
  },
  {
   "cell_type": "code",
   "execution_count": 62,
   "metadata": {},
   "outputs": [],
   "source": [
    "splits = {'validation': 'all/validation-00000-of-00001.parquet'}\n",
    "dataset_df = pd.read_parquet(\"hf://datasets/cais/mmlu/\" + splits[\"validation\"])"
   ]
  },
  {
   "cell_type": "code",
   "execution_count": 63,
   "metadata": {},
   "outputs": [],
   "source": [
    "# Extract the relevant data from JSON\n",
    "instructions = []\n",
    "choices = []\n",
    "responses_json = []\n",
    "good_answer = []\n",
    "for key in json_data:\n",
    "    for entry in json_data[key]:\n",
    "        # Extraire les instructions, choix et réponses\n",
    "        instruction_start = entry.find('### Instruction:') + len('### Instruction:')\n",
    "        instruction_end = entry.find('### Choices:')\n",
    "        instruction = entry[instruction_start:instruction_end].strip()\n",
    "        \n",
    "        choices_start = entry.find('### Choices:') + len('### Choices:')\n",
    "        choices_end = entry.find('### Response:')\n",
    "        choice = entry[choices_start:choices_end].strip()\n",
    "        \n",
    "        response_start = entry.find('### Response:') + len('### Response:')\n",
    "        response = entry[response_start:].strip()\n",
    "        \n",
    "        instructions.append(instruction)\n",
    "        choices.append(choice)\n",
    "        responses_json.append(response)"
   ]
  },
  {
   "cell_type": "code",
   "execution_count": 64,
   "metadata": {},
   "outputs": [],
   "source": [
    "# Combine the data\n",
    "data = {\n",
    "    'Instruction': instructions,\n",
    "    'Choices': choices,\n",
    "    'Subject' : dataset_df['subject'],\n",
    "    'Answer Dataset': dataset_df['answer'],  # This assumes the order matches\n",
    "    'Answer Json': responses_json\n",
    "}"
   ]
  },
  {
   "cell_type": "code",
   "execution_count": 65,
   "metadata": {},
   "outputs": [],
   "source": [
    "# Create the DataFrame\n",
    "df = pd.DataFrame(data)\n",
    "\n",
    "def remove_non_printable(text):\n",
    "    return re.sub(r'[^\\x20-\\x7E]', '', text)\n",
    "\n",
    "def remove_eos_token(text):\n",
    "    clean_text = re.sub(r'<.*?>', '', text)\n",
    "    return clean_text\n"
   ]
  },
  {
   "cell_type": "code",
   "execution_count": 66,
   "metadata": {},
   "outputs": [],
   "source": [
    "def compare_answer(row):\n",
    "    \"\"\"Compares the model's response to the expected answer, taking context into account.\n",
    "\n",
    "    Args:\n",
    "        row (pandas.Series): A row from the dataframe.\n",
    "\n",
    "    Returns:\n",
    "        bool: True if the model's response matches the expected answer, False otherwise.\n",
    "    \"\"\"\n",
    "    expected_answer = ast.literal_eval(row['Choices'])[row['Answer Dataset']]\n",
    "    model_response = row['Answer Json']\n",
    "    # Check if the expected answer is present in the text\n",
    "    if re.search(r'\\b' + re.escape(expected_answer) + r'\\b', model_response) or expected_answer == model_response:\n",
    "        return True\n",
    "    else:\n",
    "        return False"
   ]
  },
  {
   "cell_type": "code",
   "execution_count": 67,
   "metadata": {},
   "outputs": [],
   "source": [
    "df['Answer Json'] = df['Answer Json'].apply(remove_eos_token)\n",
    "df['Good Answer'] = df.apply(compare_answer, axis=1)"
   ]
  },
  {
   "cell_type": "code",
   "execution_count": 68,
   "metadata": {},
   "outputs": [
    {
     "name": "stderr",
     "output_type": "stream",
     "text": [
      "C:\\Users\\sequi\\AppData\\Local\\Temp\\ipykernel_28812\\899564538.py:1: FutureWarning: DataFrame.applymap has been deprecated. Use DataFrame.map instead.\n",
      "  df_print = df.applymap(lambda x: remove_non_printable(str(x)))\n"
     ]
    }
   ],
   "source": [
    "df_print = df.applymap(lambda x: remove_non_printable(str(x)))\n",
    "#  Save to Excel\n",
    "df_print.to_excel('result_inference_mmlu.xlsx', index=False)"
   ]
  },
  {
   "cell_type": "code",
   "execution_count": 69,
   "metadata": {},
   "outputs": [
    {
     "name": "stdout",
     "output_type": "stream",
     "text": [
      "                                Subject  Average Good Answer\n",
      "0                      abstract_algebra             0.181818\n",
      "1                               anatomy             0.000000\n",
      "2                             astronomy             0.000000\n",
      "3                       business_ethics             0.000000\n",
      "4                    clinical_knowledge             0.000000\n",
      "5                       college_biology             0.062500\n",
      "6                     college_chemistry             0.125000\n",
      "7              college_computer_science             0.000000\n",
      "8                   college_mathematics             0.000000\n",
      "9                      college_medicine             0.045455\n",
      "10                      college_physics             0.000000\n",
      "11                    computer_security             0.000000\n",
      "12                   conceptual_physics             0.115385\n",
      "13                         econometrics             0.083333\n",
      "14               electrical_engineering             0.125000\n",
      "15               elementary_mathematics             0.097561\n",
      "16                         formal_logic             0.000000\n",
      "17                         global_facts             0.100000\n",
      "18                  high_school_biology             0.093750\n",
      "19                high_school_chemistry             0.000000\n",
      "20         high_school_computer_science             0.111111\n",
      "21         high_school_european_history             0.000000\n",
      "22                high_school_geography             0.272727\n",
      "23  high_school_government_and_politics             0.047619\n",
      "24           high_school_macroeconomics             0.069767\n",
      "25              high_school_mathematics             0.103448\n",
      "26           high_school_microeconomics             0.000000\n",
      "27                  high_school_physics             0.000000\n",
      "28               high_school_psychology             0.150000\n",
      "29               high_school_statistics             0.000000\n",
      "30               high_school_us_history             0.000000\n",
      "31            high_school_world_history             0.000000\n",
      "32                          human_aging             0.130435\n",
      "33                      human_sexuality             0.083333\n",
      "34                    international_law             0.000000\n",
      "35                        jurisprudence             0.000000\n",
      "36                    logical_fallacies             0.000000\n",
      "37                     machine_learning             0.272727\n",
      "38                           management             0.181818\n",
      "39                            marketing             0.120000\n",
      "40                     medical_genetics             0.000000\n",
      "41                        miscellaneous             0.255814\n",
      "42                       moral_disputes             0.052632\n",
      "43                      moral_scenarios             0.000000\n",
      "44                            nutrition             0.060606\n",
      "45                           philosophy             0.088235\n",
      "46                           prehistory             0.057143\n",
      "47              professional_accounting             0.000000\n",
      "48                     professional_law             0.000000\n",
      "49                professional_medicine             0.064516\n",
      "50              professional_psychology             0.014493\n",
      "51                     public_relations             0.000000\n",
      "52                     security_studies             0.000000\n",
      "53                            sociology             0.000000\n",
      "54                    us_foreign_policy             0.000000\n",
      "55                             virology             0.000000\n",
      "56                      world_religions             0.105263\n"
     ]
    }
   ],
   "source": [
    "result = df.groupby('Subject')['Good Answer'].mean().reset_index()\n",
    "result.columns = ['Subject', 'Average Good Answer']\n",
    "\n",
    "print(result)"
   ]
  },
  {
   "cell_type": "code",
   "execution_count": null,
   "metadata": {},
   "outputs": [],
   "source": []
  }
 ],
 "metadata": {
  "kernelspec": {
   "display_name": "Python 3",
   "language": "python",
   "name": "python3"
  },
  "language_info": {
   "codemirror_mode": {
    "name": "ipython",
    "version": 3
   },
   "file_extension": ".py",
   "mimetype": "text/x-python",
   "name": "python",
   "nbconvert_exporter": "python",
   "pygments_lexer": "ipython3",
   "version": "3.9.13"
  }
 },
 "nbformat": 4,
 "nbformat_minor": 2
}
